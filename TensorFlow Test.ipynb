{
    "metadata": {
        "language_info": {
            "codemirror_mode": {
                "version": 3, 
                "name": "ipython"
            }, 
            "file_extension": ".py", 
            "mimetype": "text/x-python", 
            "version": "3.5.2", 
            "pygments_lexer": "ipython3", 
            "nbconvert_exporter": "python", 
            "name": "python"
        }, 
        "kernelspec": {
            "display_name": "Python 3.5 (Experimental) with Spark 2.1", 
            "language": "python", 
            "name": "python3-spark21"
        }
    }, 
    "cells": [
        {
            "outputs": [], 
            "cell_type": "code", 
            "execution_count": 22, 
            "metadata": {
                "collapsed": false
            }, 
            "source": "import matplotlib.pyplot as plt\n%matplotlib inline\nimport numpy as np\nimport pandas as pd\nimport tensorflow as tf"
        }, 
        {
            "outputs": [], 
            "cell_type": "code", 
            "execution_count": 11, 
            "metadata": {
                "collapsed": false
            }, 
            "source": "# Model Parameters\nW = tf.Variable([1.], tf.float32)\nb = tf.Variable([1.], tf.float32)\n\n# Model Input & Output\nx = tf.placeholder(tf.float32)\nyModel = W * x + b\nyObs = tf.placeholder(tf.float32)\n\n# Loss: Sum squared error\nloss = tf.reduce_sum(tf.square(yModel - yObs))\n\n# Optimizer\noptimizer = tf.train.GradientDescentOptimizer(0.01)\ntrain = optimizer.minimize(loss)"
        }, 
        {
            "outputs": [], 
            "cell_type": "code", 
            "execution_count": 17, 
            "metadata": {
                "collapsed": false
            }, 
            "source": "# Training Data\nxTrain = np.arange(-2, 6)\nyTrain = np.random.normal(0, 0.3, xTrain.shape[0]) + np.linspace(3, -3, xTrain.shape[0])"
        }, 
        {
            "outputs": [
                {
                    "output_type": "stream", 
                    "text": "W: [-0.85492194] b: [ 1.38765216] loss: 0.747514\n", 
                    "name": "stdout"
                }
            ], 
            "cell_type": "code", 
            "execution_count": 20, 
            "metadata": {
                "collapsed": false
            }, 
            "source": "# Training Loop\ninit = tf.global_variables_initializer()\nsess = tf.Session()\nsess.run(init) # reset values to wrong\nfor i in range(1000):\n    sess.run(train, { x: xTrain, yObs: yTrain })\n\n# Evaluation\ncurrW, currB, currLoss = sess.run([W, b, loss], {x:xTrain, yObs:yTrain})\nprint(\"W: %s b: %s loss: %s\"%(currW, currB, currLoss))\n"
        }, 
        {
            "outputs": [
                {
                    "metadata": {}, 
                    "execution_count": 29, 
                    "data": {
                        "text/plain": "[<matplotlib.lines.Line2D at 0x7f9ce9fea048>]"
                    }, 
                    "output_type": "execute_result"
                }, 
                {
                    "metadata": {}, 
                    "data": {
                        "text/plain": "<matplotlib.figure.Figure at 0x7f9ce9fea0b8>", 
                        "image/png": "[encoded data removed]"
                    }, 
                    "output_type": "display_data"
                }
            ], 
            "cell_type": "code", 
            "execution_count": 29, 
            "metadata": {
                "collapsed": false
            }, 
            "source": "plt.scatter(xTrain, yTrain)\nplt.plot(xTrain, (xTrain * currW) + currB)"
        }, 
        {
            "outputs": [], 
            "cell_type": "code", 
            "execution_count": null, 
            "metadata": {
                "collapsed": true
            }, 
            "source": ""
        }
    ], 
    "nbformat": 4, 
    "nbformat_minor": 0
}